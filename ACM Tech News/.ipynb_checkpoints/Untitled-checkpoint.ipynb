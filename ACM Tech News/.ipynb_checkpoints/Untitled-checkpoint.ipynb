{
 "cells": [
  {
   "cell_type": "markdown",
   "metadata": {},
   "source": [
    "# Researchers use Wikipedia to give AI context clues by Andrea Christensen\n",
    "Article Source: https://news.byu.edu/news/researchers-use-wikipedia-give-ai-context-clues\n",
    "\n",
    "\"good at identifying objects but less so in knowing what to do with them\"\n",
    "    -are there specific things we want them to do? Why and what?\n",
    "-affordances — the set of actions that can be done with an object\n",
    "- An example she gives is elderly care: a robot who is told to “get me my glasses” could figure out what glasses look like, where they’re likely to be, how heavy they are, how best to lift them and how to get them to the person requesting them.\n",
    "    - just for fun: how would a robot know that the glasses belong to the owner? What if the robot stole someone else's glasses?\n",
    "-wikie as having up-to-date langauge examples\n",
    "        - wiki articles often use language that is more formal than every day conversation. would this affect the robot's ability to affect every day convos?\n",
    "-tested it on a text based game\n",
    "   - wondering how it would handle responding to a human?"
   ]
  }
 ],
 "metadata": {
  "kernelspec": {
   "display_name": "Python 3",
   "language": "python",
   "name": "python3"
  },
  "language_info": {
   "codemirror_mode": {
    "name": "ipython",
    "version": 3
   },
   "file_extension": ".py",
   "mimetype": "text/x-python",
   "name": "python",
   "nbconvert_exporter": "python",
   "pygments_lexer": "ipython3",
   "version": "3.6.0"
  }
 },
 "nbformat": 4,
 "nbformat_minor": 2
}
