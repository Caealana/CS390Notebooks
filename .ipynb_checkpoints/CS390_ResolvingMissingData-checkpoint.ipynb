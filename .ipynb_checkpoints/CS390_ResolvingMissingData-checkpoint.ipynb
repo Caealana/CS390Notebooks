{
 "cells": [
  {
   "cell_type": "markdown",
   "metadata": {},
   "source": [
    "# # What kind of data do we have? How can we resolve the missing data?\n",
    "Our aim is to analyze how we handle missing values affects our descriptive statistics and visualizations of a data set.\n",
    "We have data from http://archive.ics.uci.edu/ml/datasets/Wholesale+customers\n",
    "\"The data set refers to clients of a wholesale distributor. It includes the annual spending in monetary units (m.u.) on diverse product categories\"\n",
    "# Descriptive Statistics to Compare our results to:\n",
    "(Minimum, Maximum, Mean, Std. Deviation) \n",
    "FRESH (\t3, 112151, 12000.30, 12647.329) \n",
    "MILK\t(55, 73498, 5796.27, 7380.377) \n",
    "GROCERY\t(3, 92780, 7951.28, 9503.163) \n",
    "FROZEN\t(25, 60869, 3071.93, 4854.673) \n",
    "DETERGENTS_PAPER (3, 40827, 2881.49, 4767.854) \n",
    "DELICATESSEN (3, 47943, 1524.87, 2820.106) \n",
    "\n",
    "REGION\tFrequency \n",
    "Lisbon\t77 \n",
    "Oporto\t47 \n",
    "Other Region\t316 \n",
    "Total\t440 \n",
    "\n",
    "CHANNEL\tFrequency \n",
    "Horeca\t298 \n",
    "Retail\t142 \n",
    "Total\t440 \n",
    "\n",
    "# How to Handle Missing Values?\n",
    "I am picking for my first approach to ignore the tuples with missing values and for my second approach to fill in the missing values with the most probable value. I think it would be interesting to compare the descriptive statistics and visualizations from the complete data set to those of a data set where we omit the tuples with the missing values from our calculations and to those of a data set where we replace the missing values."
   ]
  },
  {
   "cell_type": "code",
   "execution_count": 70,
   "metadata": {
    "collapsed": false
   },
   "outputs": [
    {
     "name": "stdout",
     "output_type": "stream",
     "text": [
      "       Channel Region  Fresh  Milk Grocery Frozen detergents_paper delicassen\n",
      "count      441    441    441   441     441    441              441        441\n",
      "unique       3      4    434   422     431    427              418        404\n",
      "top          1      3  18044  3587    2406   1285              153        834\n",
      "freq       298    316      2     2       2      2                2          4\n"
     ]
    }
   ],
   "source": [
    "#first, we get information from the complete data set\n",
    "import csv\n",
    "import numpy as np\n",
    "import pandas as pd\n",
    "import matplotlib.pyplot as plt\n",
    "#matplotlib.style.use('ggplot')\n",
    "dfWhole = pd.DataFrame(columns=['Channel','Region', 'Fresh', 'Milk', 'Grocery', 'Frozen', 'detergents_paper', 'delicassen'])\n",
    "with open('WholesaleCustomersData.csv', 'rt') as csvFile:\n",
    "    reader = csv.reader(csvFile)\n",
    "    for row in reader:\n",
    "        if ('Channel' not in row): #if the row doesn't contain an empty value and is not the first row\n",
    "            #convert the entries to ints\n",
    "            rowInt = [ int(x) for x in row ] #convert the entries into integers\n",
    "            dfWhole.loc[i] = rowInt\n",
    "            i = i + 1\n",
    "            \n",
    "#just trying a different way of handling the csv based off of:\n",
    "#https://machinelearningmastery.com/quick-and-dirty-data-analysis-with-pandas/\n",
    "names = ['Channel','Region', 'Fresh', 'Milk', 'Grocery', 'Frozen', 'detergents_paper', 'delicassen']\n",
    "data = pd.read_csv('WholesaleCustomersData.csv', names=names)\n",
    "print(data.describe())\n"
   ]
  },
  {
   "cell_type": "code",
   "execution_count": 69,
   "metadata": {
    "collapsed": false
   },
   "outputs": [
    {
     "data": {
      "text/plain": [
       "<matplotlib.axes._subplots.AxesSubplot at 0x1111e63c8>"
      ]
     },
     "execution_count": 69,
     "metadata": {},
     "output_type": "execute_result"
    },
    {
     "data": {
      "image/png": "[encoded data removed]",
      "text/plain": [
       "<matplotlib.figure.Figure at 0x1114146a0>"
      ]
     },
     "metadata": {},
     "output_type": "display_data"
    }
   ],
   "source": [
    "#plot boxplots of complete data\n",
    "dfWhole.plot.box()"
   ]
  },
  {
   "cell_type": "code",
   "execution_count": 91,
   "metadata": {
    "collapsed": false
   },
   "outputs": [
    {
     "data": {
      "text/plain": [
       "<matplotlib.axes._subplots.AxesSubplot at 0x121dca9b0>"
      ]
     },
     "execution_count": 91,
     "metadata": {},
     "output_type": "execute_result"
    },
    {
     "data": {
      "image/png": "[encoded data removed]",
      "text/plain": [
       "<matplotlib.figure.Figure at 0x122063780>"
      ]
     },
     "metadata": {},
     "output_type": "display_data"
    }
   ],
   "source": [
    "#source on how to plot by column\n",
    "#https://stackoverflow.com/questions/43549901/visualize-data-from-one-column\n",
    "dfWhole[\"Grocery\"].value_counts().plot.bar()"
   ]
  },
  {
   "cell_type": "code",
   "execution_count": 46,
   "metadata": {
    "collapsed": false
   },
   "outputs": [
    {
     "data": {
      "text/html": [
       "<div>\n",
       "<table border=\"1\" class=\"dataframe\">\n",
       "  <thead>\n",
       "    <tr style=\"text-align: right;\">\n",
       "      <th></th>\n",
       "      <th>Channel</th>\n",
       "      <th>Region</th>\n",
       "      <th>Fresh</th>\n",
       "      <th>Milk</th>\n",
       "      <th>Grocery</th>\n",
       "      <th>Frozen</th>\n",
       "      <th>detergents_paper</th>\n",
       "      <th>delicassen</th>\n",
       "    </tr>\n",
       "  </thead>\n",
       "  <tbody>\n",
       "    <tr>\n",
       "      <th>count</th>\n",
       "      <td>434.000000</td>\n",
       "      <td>434.000000</td>\n",
       "      <td>434.000000</td>\n",
       "      <td>434.000000</td>\n",
       "      <td>434.000000</td>\n",
       "      <td>434.000000</td>\n",
       "      <td>434.000000</td>\n",
       "      <td>434.000000</td>\n",
       "    </tr>\n",
       "    <tr>\n",
       "      <th>mean</th>\n",
       "      <td>1.324885</td>\n",
       "      <td>2.541475</td>\n",
       "      <td>11965.827189</td>\n",
       "      <td>5826.762673</td>\n",
       "      <td>8000.421659</td>\n",
       "      <td>3096.175115</td>\n",
       "      <td>2906.887097</td>\n",
       "      <td>1526.020737</td>\n",
       "    </tr>\n",
       "    <tr>\n",
       "      <th>std</th>\n",
       "      <td>0.468872</td>\n",
       "      <td>0.774527</td>\n",
       "      <td>12636.061205</td>\n",
       "      <td>7423.721452</td>\n",
       "      <td>9553.341671</td>\n",
       "      <td>4880.906396</td>\n",
       "      <td>4794.665933</td>\n",
       "      <td>2838.043624</td>\n",
       "    </tr>\n",
       "    <tr>\n",
       "      <th>min</th>\n",
       "      <td>1.000000</td>\n",
       "      <td>1.000000</td>\n",
       "      <td>3.000000</td>\n",
       "      <td>55.000000</td>\n",
       "      <td>137.000000</td>\n",
       "      <td>25.000000</td>\n",
       "      <td>3.000000</td>\n",
       "      <td>3.000000</td>\n",
       "    </tr>\n",
       "    <tr>\n",
       "      <th>25%</th>\n",
       "      <td>1.000000</td>\n",
       "      <td>2.000000</td>\n",
       "      <td>3141.250000</td>\n",
       "      <td>1531.000000</td>\n",
       "      <td>2155.500000</td>\n",
       "      <td>768.750000</td>\n",
       "      <td>256.250000</td>\n",
       "      <td>405.250000</td>\n",
       "    </tr>\n",
       "    <tr>\n",
       "      <th>50%</th>\n",
       "      <td>1.000000</td>\n",
       "      <td>3.000000</td>\n",
       "      <td>8413.500000</td>\n",
       "      <td>3627.000000</td>\n",
       "      <td>4755.500000</td>\n",
       "      <td>1567.000000</td>\n",
       "      <td>820.500000</td>\n",
       "      <td>962.500000</td>\n",
       "    </tr>\n",
       "    <tr>\n",
       "      <th>75%</th>\n",
       "      <td>2.000000</td>\n",
       "      <td>3.000000</td>\n",
       "      <td>16905.500000</td>\n",
       "      <td>7234.500000</td>\n",
       "      <td>10699.250000</td>\n",
       "      <td>3564.750000</td>\n",
       "      <td>3992.500000</td>\n",
       "      <td>1811.250000</td>\n",
       "    </tr>\n",
       "    <tr>\n",
       "      <th>max</th>\n",
       "      <td>2.000000</td>\n",
       "      <td>3.000000</td>\n",
       "      <td>112151.000000</td>\n",
       "      <td>73498.000000</td>\n",
       "      <td>92780.000000</td>\n",
       "      <td>60869.000000</td>\n",
       "      <td>40827.000000</td>\n",
       "      <td>47943.000000</td>\n",
       "    </tr>\n",
       "  </tbody>\n",
       "</table>\n",
       "</div>"
      ],
      "text/plain": [
       "          Channel      Region          Fresh          Milk       Grocery  \\\n",
       "count  434.000000  434.000000     434.000000    434.000000    434.000000   \n",
       "mean     1.324885    2.541475   11965.827189   5826.762673   8000.421659   \n",
       "std      0.468872    0.774527   12636.061205   7423.721452   9553.341671   \n",
       "min      1.000000    1.000000       3.000000     55.000000    137.000000   \n",
       "25%      1.000000    2.000000    3141.250000   1531.000000   2155.500000   \n",
       "50%      1.000000    3.000000    8413.500000   3627.000000   4755.500000   \n",
       "75%      2.000000    3.000000   16905.500000   7234.500000  10699.250000   \n",
       "max      2.000000    3.000000  112151.000000  73498.000000  92780.000000   \n",
       "\n",
       "             Frozen  detergents_paper    delicassen  \n",
       "count    434.000000        434.000000    434.000000  \n",
       "mean    3096.175115       2906.887097   1526.020737  \n",
       "std     4880.906396       4794.665933   2838.043624  \n",
       "min       25.000000          3.000000      3.000000  \n",
       "25%      768.750000        256.250000    405.250000  \n",
       "50%     1567.000000        820.500000    962.500000  \n",
       "75%     3564.750000       3992.500000   1811.250000  \n",
       "max    60869.000000      40827.000000  47943.000000  "
      ]
     },
     "execution_count": 46,
     "metadata": {},
     "output_type": "execute_result"
    }
   ],
   "source": [
    "#Method 1 - omit the tuples with missing values\n",
    "#creating a pandas dataframe from csv\n",
    "dfOmit = pd.DataFrame(columns=['Channel','Region', 'Fresh', 'Milk', 'Grocery', 'Frozen', 'detergents_paper', 'delicassen'])\n",
    "i = 0 #current index to insert a new row into df\n",
    "with open('WholesaleCustomersDataMissing.csv', 'rt') as csvFile:\n",
    "    reader = csv.reader(csvFile)\n",
    "    for row in reader:\n",
    "        if ((\"\" not in row) & ('Channel' not in row)): #if the row doesn't contain an empty value and is not the first row\n",
    "            #convert the entries to ints\n",
    "            rowInt = [ int(x) for x in row ] #convert the entries into integers\n",
    "            #we have a row that doesn't contain missing values, we can keep it in our data\n",
    "            dfOmit.loc[i] = rowInt\n",
    "            i = i + 1\n",
    "\n",
    "#get descriptive statistics for the df\n",
    "dfOmit.describe()"
   ]
  },
  {
   "cell_type": "code",
   "execution_count": 71,
   "metadata": {
    "collapsed": false
   },
   "outputs": [
    {
     "data": {
      "text/plain": [
       "<matplotlib.axes._subplots.AxesSubplot at 0x1114f9908>"
      ]
     },
     "execution_count": 71,
     "metadata": {},
     "output_type": "execute_result"
    },
    {
     "data": {
      "image/png": "[encoded data removed]",
      "text/plain": [
       "<matplotlib.figure.Figure at 0x11153cac8>"
      ]
     },
     "metadata": {},
     "output_type": "display_data"
    }
   ],
   "source": [
    "#plot boxplots of data with omits\n",
    "dfOmit.plot.box()"
   ]
  },
  {
   "cell_type": "code",
   "execution_count": 58,
   "metadata": {
    "collapsed": false
   },
   "outputs": [
    {
     "data": {
      "text/plain": [
       "Channel                1.0\n",
       "Region                 3.0\n",
       "Fresh               8504.0\n",
       "Milk                3627.0\n",
       "Grocery             4755.5\n",
       "Frozen              1526.0\n",
       "detergents_paper     816.5\n",
       "delicassen           965.5\n",
       "dtype: float64"
      ]
     },
     "execution_count": 58,
     "metadata": {},
     "output_type": "execute_result"
    }
   ],
   "source": [
    "#Method 2 - fill in missing values with most probable value\n",
    "dfWhole.mode()\n",
    "dfWhole.median()"
   ]
  },
  {
   "cell_type": "markdown",
   "metadata": {},
   "source": [
    "I interpreted finding the most probable value for each category as finding the mode for each category. Unfortunately, some of the categories have multiple modes that vary greatly. For example, the category 'Fresh' has 7 mode values that range from 3 to 18044.\n",
    "Instead, we can replace the missing values with the median value from each category. The median is not as susceptible to outliers as the mean is.\n"
   ]
  },
  {
   "cell_type": "code",
   "execution_count": 66,
   "metadata": {
    "collapsed": false
   },
   "outputs": [
    {
     "data": {
      "text/html": [
       "<div>\n",
       "<table border=\"1\" class=\"dataframe\">\n",
       "  <thead>\n",
       "    <tr style=\"text-align: right;\">\n",
       "      <th></th>\n",
       "      <th>Channel</th>\n",
       "      <th>Region</th>\n",
       "      <th>Fresh</th>\n",
       "      <th>Milk</th>\n",
       "      <th>Grocery</th>\n",
       "      <th>Frozen</th>\n",
       "      <th>detergents_paper</th>\n",
       "      <th>delicassen</th>\n",
       "    </tr>\n",
       "  </thead>\n",
       "  <tbody>\n",
       "    <tr>\n",
       "      <th>count</th>\n",
       "      <td>440.000000</td>\n",
       "      <td>440.000000</td>\n",
       "      <td>440.000000</td>\n",
       "      <td>440.000000</td>\n",
       "      <td>440.000000</td>\n",
       "      <td>440.000000</td>\n",
       "      <td>440.000000</td>\n",
       "      <td>440.000000</td>\n",
       "    </tr>\n",
       "    <tr>\n",
       "      <th>mean</th>\n",
       "      <td>1.322727</td>\n",
       "      <td>2.543182</td>\n",
       "      <td>12000.297727</td>\n",
       "      <td>5790.790909</td>\n",
       "      <td>7958.029545</td>\n",
       "      <td>3071.931818</td>\n",
       "      <td>2882.284091</td>\n",
       "      <td>1524.443182</td>\n",
       "    </tr>\n",
       "    <tr>\n",
       "      <th>std</th>\n",
       "      <td>0.468052</td>\n",
       "      <td>0.774272</td>\n",
       "      <td>12647.328865</td>\n",
       "      <td>7381.092429</td>\n",
       "      <td>9497.796141</td>\n",
       "      <td>4854.673333</td>\n",
       "      <td>4767.489726</td>\n",
       "      <td>2820.176649</td>\n",
       "    </tr>\n",
       "    <tr>\n",
       "      <th>min</th>\n",
       "      <td>1.000000</td>\n",
       "      <td>1.000000</td>\n",
       "      <td>3.000000</td>\n",
       "      <td>55.000000</td>\n",
       "      <td>137.000000</td>\n",
       "      <td>25.000000</td>\n",
       "      <td>3.000000</td>\n",
       "      <td>3.000000</td>\n",
       "    </tr>\n",
       "    <tr>\n",
       "      <th>25%</th>\n",
       "      <td>1.000000</td>\n",
       "      <td>2.000000</td>\n",
       "      <td>3127.750000</td>\n",
       "      <td>1533.000000</td>\n",
       "      <td>2156.500000</td>\n",
       "      <td>742.250000</td>\n",
       "      <td>256.750000</td>\n",
       "      <td>408.250000</td>\n",
       "    </tr>\n",
       "    <tr>\n",
       "      <th>50%</th>\n",
       "      <td>1.000000</td>\n",
       "      <td>3.000000</td>\n",
       "      <td>8504.000000</td>\n",
       "      <td>3623.500000</td>\n",
       "      <td>4755.000000</td>\n",
       "      <td>1526.000000</td>\n",
       "      <td>818.000000</td>\n",
       "      <td>964.500000</td>\n",
       "    </tr>\n",
       "    <tr>\n",
       "      <th>75%</th>\n",
       "      <td>2.000000</td>\n",
       "      <td>3.000000</td>\n",
       "      <td>16933.750000</td>\n",
       "      <td>7190.250000</td>\n",
       "      <td>10655.750000</td>\n",
       "      <td>3554.250000</td>\n",
       "      <td>3922.000000</td>\n",
       "      <td>1820.250000</td>\n",
       "    </tr>\n",
       "    <tr>\n",
       "      <th>max</th>\n",
       "      <td>2.000000</td>\n",
       "      <td>3.000000</td>\n",
       "      <td>112151.000000</td>\n",
       "      <td>73498.000000</td>\n",
       "      <td>92780.000000</td>\n",
       "      <td>60869.000000</td>\n",
       "      <td>40827.000000</td>\n",
       "      <td>47943.000000</td>\n",
       "    </tr>\n",
       "  </tbody>\n",
       "</table>\n",
       "</div>"
      ],
      "text/plain": [
       "          Channel      Region          Fresh          Milk       Grocery  \\\n",
       "count  440.000000  440.000000     440.000000    440.000000    440.000000   \n",
       "mean     1.322727    2.543182   12000.297727   5790.790909   7958.029545   \n",
       "std      0.468052    0.774272   12647.328865   7381.092429   9497.796141   \n",
       "min      1.000000    1.000000       3.000000     55.000000    137.000000   \n",
       "25%      1.000000    2.000000    3127.750000   1533.000000   2156.500000   \n",
       "50%      1.000000    3.000000    8504.000000   3623.500000   4755.000000   \n",
       "75%      2.000000    3.000000   16933.750000   7190.250000  10655.750000   \n",
       "max      2.000000    3.000000  112151.000000  73498.000000  92780.000000   \n",
       "\n",
       "             Frozen  detergents_paper    delicassen  \n",
       "count    440.000000        440.000000    440.000000  \n",
       "mean    3071.931818       2882.284091   1524.443182  \n",
       "std     4854.673333       4767.489726   2820.176649  \n",
       "min       25.000000          3.000000      3.000000  \n",
       "25%      742.250000        256.750000    408.250000  \n",
       "50%     1526.000000        818.000000    964.500000  \n",
       "75%     3554.250000       3922.000000   1820.250000  \n",
       "max    60869.000000      40827.000000  47943.000000  "
      ]
     },
     "execution_count": 66,
     "metadata": {},
     "output_type": "execute_result"
    }
   ],
   "source": [
    "#Method 2 - reaplce missing values with the median value\n",
    "#creating a pandas dataframe from csv\n",
    "dfReplace = pd.DataFrame(columns=['Channel','Region', 'Fresh', 'Milk', 'Grocery', 'Frozen', 'detergents_paper', 'delicassen'])\n",
    "i = 0 #current index to insert a new row into df\n",
    "#dictionary of median replacement values\n",
    "medians = {0: 1.0, 1: 3.0, 2:8504.0, 3:3627.0, 4:4755.5, 5:1526, 6:816.5, 7:965.5}\n",
    "with open('WholesaleCustomersDataMissing.csv', 'rt') as csvFile:\n",
    "    reader = csv.reader(csvFile)\n",
    "    for row in reader:\n",
    "        if ('Channel' not in row): #if the row doesn't contain an empty value and is not the first row\n",
    "            if(\"\" in row):\n",
    "                #row contains missing value, need to replace\n",
    "                for j in range(0,len(row)):\n",
    "                    if(row[j] == \"\"):\n",
    "                        #we found the empty value\n",
    "                        row[j] = medians[j]\n",
    "            rowInt = [ int(x) for x in row ] #convert the entries into integers\n",
    "        \n",
    "            dfReplace.loc[i] = rowInt\n",
    "            i = i + 1\n",
    "\n",
    "#get descriptive statistics for the df that has replaced values\n",
    "dfReplace.describe()"
   ]
  },
  {
   "cell_type": "code",
   "execution_count": 72,
   "metadata": {
    "collapsed": false
   },
   "outputs": [
    {
     "data": {
      "text/plain": [
       "<matplotlib.axes._subplots.AxesSubplot at 0x111784ac8>"
      ]
     },
     "execution_count": 72,
     "metadata": {},
     "output_type": "execute_result"
    },
    {
     "data": {
      "image/png": "[encoded data removed]",
      "text/plain": [
       "<matplotlib.figure.Figure at 0x1109d42e8>"
      ]
     },
     "metadata": {},
     "output_type": "display_data"
    }
   ],
   "source": [
    "#plot boxplots of data with replaced values\n",
    "dfReplace.plot.box()"
   ]
  },
  {
   "cell_type": "code",
   "execution_count": null,
   "metadata": {
    "collapsed": true
   },
   "outputs": [],
   "source": []
  }
 ],
 "metadata": {
  "kernelspec": {
   "display_name": "Python 3",
   "language": "python",
   "name": "python3"
  },
  "language_info": {
   "codemirror_mode": {
    "name": "ipython",
    "version": 3
   },
   "file_extension": ".py",
   "mimetype": "text/x-python",
   "name": "python",
   "nbconvert_exporter": "python",
   "pygments_lexer": "ipython3",
   "version": "3.6.0"
  }
 },
 "nbformat": 4,
 "nbformat_minor": 2
}
