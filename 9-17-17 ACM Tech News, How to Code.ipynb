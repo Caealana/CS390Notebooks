{
 "cells": [
  {
   "cell_type": "markdown",
   "metadata": {},
   "source": [
    "# # Analysis - Can Robots Write Meaningful News?"
   ]
  },
  {
   "cell_type": "code",
   "execution_count": null,
   "metadata": {
    "collapsed": true
   },
   "outputs": [],
   "source": [
    "#Source: http://ju.se/en/research/news/news-archive/2017-03-27-can-robots-write-meaningful-news.html\n",
    "#written on 2017-03-27"
   ]
  },
  {
   "cell_type": "code",
   "execution_count": null,
   "metadata": {
    "collapsed": true
   },
   "outputs": [],
   "source": [
    "#Notes:\n",
    "#robots, ai replacing people everywhere - are they doing well enough?\n",
    "#DPer for media and news\n",
    "# You'd think for a creative pursuit, like writing, an ai would fail to convince a human\n",
    "#journalism can be repetitive for finance and sports? why?\n",
    "#robots can either analyze data or assist with writing...help people access news that interests them?\n",
    "#can robots inspire different ways of thinking??? use it as a tool\n",
    "### -> an example of this?? also...do people use the internet to find mostly information that supports their points?\n",
    "### -> do a lot of people find information/search out info that counters their way of thinking?\n"
   ]
  },
  {
   "cell_type": "code",
   "execution_count": null,
   "metadata": {
    "collapsed": true
   },
   "outputs": [],
   "source": [
    "#How I Would Code A Robot to Write Meaningful News\n",
    "\n",
    "#What kind of Data or info would I need?\n",
    "#People's personal interests, the types of websites they explore, types of news article they look at - \n",
    "#which news articles get comments and likes? what kinds of comments\n",
    "#type of music?, some sort of online purchase history?, hobbies\n",
    "\n",
    "#System puts together a list of some topics that person is pretty involved with - whether through purchases, search\n",
    "#history. \n",
    "#System checks for interesting new news related to topics. picks news that is related to interest topics\n",
    "\n",
    "#analyze writing style of articles person has viewed? program tries to mimic it? - types of words and typical wordsused?\n",
    "#, lengths of words, length of article \n",
    "#maybe have it make creative references to some shows/books/movies they like?\n",
    "\n",
    "#maybe have it incorporate ideas and viewpoints from different cultures/groups...try to create more well rounded news\n",
    "# different sides of same news story to inspire new thinking?\n",
    "\n",
    "#how much time does the person spend on the news article you created? Did the news article inspire any new internet \n",
    "# searches? comments?\n",
    "#how can we tell if a reaction is favorable? How do we decide what to tweak on the news article to make it better next\n",
    "#time?\n",
    "# possibly just outright get a person's rating on how much they liked the article\n",
    "# see if favorable articles have anything in common?\n",
    "# how do we predict things that could be favorable to a person even when it isn't something they have outrightedly\n",
    "# expressed interest in?"
   ]
  },
  {
   "cell_type": "code",
   "execution_count": null,
   "metadata": {
    "collapsed": true
   },
   "outputs": [],
   "source": [
    "#Creative generalization?\n",
    "# Do we really need news to be personalized? Should that be our main interest?\n",
    "#or should we aim more for correct information and show different viewpoints of that same info?\n",
    "\n",
    "\n",
    "#potential problem with code? ..they don't really describe how they coded this system..    \n",
    "#some general possible problems???\n",
    "#robot can decide to constantly give someone incredibly negative, depressing news? harmful on mental health?\n",
    "#Is there a need for a robot to point people in new thinking directions? Do enough people find surprising\n",
    "#things on the internet enough? Or do they only look at sources that confirm their way of thinking?\n",
    "#robot can maybe get stuck in a certain way of writing? We may lose out on many potential great writing pieces if\n",
    "#humans drop writing"
   ]
  }
 ],
 "metadata": {
  "kernelspec": {
   "display_name": "Python 3",
   "language": "python",
   "name": "python3"
  },
  "language_info": {
   "codemirror_mode": {
    "name": "ipython",
    "version": 3
   },
   "file_extension": ".py",
   "mimetype": "text/x-python",
   "name": "python",
   "nbconvert_exporter": "python",
   "pygments_lexer": "ipython3",
   "version": "3.6.0"
  }
 },
 "nbformat": 4,
 "nbformat_minor": 2
}
